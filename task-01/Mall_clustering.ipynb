{
 "cells": [
  {
   "metadata": {
    "ExecuteTime": {
     "end_time": "2024-10-02T15:14:21.070751Z",
     "start_time": "2024-10-02T15:14:18.726953Z"
    }
   },
   "cell_type": "code",
   "source": [
    "import numpy as np\n",
    "import matplotlib.pyplot as plt\n",
    "import pandas as pd\n",
    "from sklearn.cluster import KMeans\n",
    "from sklearn.preprocessing import StandardScaler\n",
    "from sklearn.decomposition import PCA\n",
    "from sklearn.metrics import silhouette_score, davies_bouldin_score\n",
    "\n"
   ],
   "id": "707c90f6d1145c8a",
   "outputs": [
    {
     "name": "stdout",
     "output_type": "stream",
     "text": [
      "The history saving thread hit an unexpected error (DatabaseError('database disk image is malformed')).History will not be written to the database.\n"
     ]
    }
   ],
   "execution_count": 1
  },
  {
   "metadata": {},
   "cell_type": "markdown",
   "source": "### Importing the file",
   "id": "295c0df68732f358"
  },
  {
   "metadata": {
    "ExecuteTime": {
     "end_time": "2024-10-02T15:14:21.118069Z",
     "start_time": "2024-10-02T15:14:21.083771Z"
    }
   },
   "cell_type": "code",
   "source": [
    "file_path = '/home/sivabharathi/PycharmProjects/ACM_Task_Sivabharathi/task-01/datasheet/Mall_Customers.csv'\n",
    "\n",
    "mall_data = pd.read_csv(file_path)\n",
    "mall_data.head(100)"
   ],
   "id": "2a84e09e8f0cef8f",
   "outputs": [
    {
     "data": {
      "text/plain": [
       "    CustomerID  Gender  Age  Annual Income (k$)  Spending Score (1-100)\n",
       "0            1    Male   19                  15                      39\n",
       "1            2    Male   21                  15                      81\n",
       "2            3  Female   20                  16                       6\n",
       "3            4  Female   23                  16                      77\n",
       "4            5  Female   31                  17                      40\n",
       "..         ...     ...  ...                 ...                     ...\n",
       "95          96    Male   24                  60                      52\n",
       "96          97  Female   47                  60                      47\n",
       "97          98  Female   27                  60                      50\n",
       "98          99    Male   48                  61                      42\n",
       "99         100    Male   20                  61                      49\n",
       "\n",
       "[100 rows x 5 columns]"
      ],
      "text/html": [
       "<div>\n",
       "<style scoped>\n",
       "    .dataframe tbody tr th:only-of-type {\n",
       "        vertical-align: middle;\n",
       "    }\n",
       "\n",
       "    .dataframe tbody tr th {\n",
       "        vertical-align: top;\n",
       "    }\n",
       "\n",
       "    .dataframe thead th {\n",
       "        text-align: right;\n",
       "    }\n",
       "</style>\n",
       "<table border=\"1\" class=\"dataframe\">\n",
       "  <thead>\n",
       "    <tr style=\"text-align: right;\">\n",
       "      <th></th>\n",
       "      <th>CustomerID</th>\n",
       "      <th>Gender</th>\n",
       "      <th>Age</th>\n",
       "      <th>Annual Income (k$)</th>\n",
       "      <th>Spending Score (1-100)</th>\n",
       "    </tr>\n",
       "  </thead>\n",
       "  <tbody>\n",
       "    <tr>\n",
       "      <th>0</th>\n",
       "      <td>1</td>\n",
       "      <td>Male</td>\n",
       "      <td>19</td>\n",
       "      <td>15</td>\n",
       "      <td>39</td>\n",
       "    </tr>\n",
       "    <tr>\n",
       "      <th>1</th>\n",
       "      <td>2</td>\n",
       "      <td>Male</td>\n",
       "      <td>21</td>\n",
       "      <td>15</td>\n",
       "      <td>81</td>\n",
       "    </tr>\n",
       "    <tr>\n",
       "      <th>2</th>\n",
       "      <td>3</td>\n",
       "      <td>Female</td>\n",
       "      <td>20</td>\n",
       "      <td>16</td>\n",
       "      <td>6</td>\n",
       "    </tr>\n",
       "    <tr>\n",
       "      <th>3</th>\n",
       "      <td>4</td>\n",
       "      <td>Female</td>\n",
       "      <td>23</td>\n",
       "      <td>16</td>\n",
       "      <td>77</td>\n",
       "    </tr>\n",
       "    <tr>\n",
       "      <th>4</th>\n",
       "      <td>5</td>\n",
       "      <td>Female</td>\n",
       "      <td>31</td>\n",
       "      <td>17</td>\n",
       "      <td>40</td>\n",
       "    </tr>\n",
       "    <tr>\n",
       "      <th>...</th>\n",
       "      <td>...</td>\n",
       "      <td>...</td>\n",
       "      <td>...</td>\n",
       "      <td>...</td>\n",
       "      <td>...</td>\n",
       "    </tr>\n",
       "    <tr>\n",
       "      <th>95</th>\n",
       "      <td>96</td>\n",
       "      <td>Male</td>\n",
       "      <td>24</td>\n",
       "      <td>60</td>\n",
       "      <td>52</td>\n",
       "    </tr>\n",
       "    <tr>\n",
       "      <th>96</th>\n",
       "      <td>97</td>\n",
       "      <td>Female</td>\n",
       "      <td>47</td>\n",
       "      <td>60</td>\n",
       "      <td>47</td>\n",
       "    </tr>\n",
       "    <tr>\n",
       "      <th>97</th>\n",
       "      <td>98</td>\n",
       "      <td>Female</td>\n",
       "      <td>27</td>\n",
       "      <td>60</td>\n",
       "      <td>50</td>\n",
       "    </tr>\n",
       "    <tr>\n",
       "      <th>98</th>\n",
       "      <td>99</td>\n",
       "      <td>Male</td>\n",
       "      <td>48</td>\n",
       "      <td>61</td>\n",
       "      <td>42</td>\n",
       "    </tr>\n",
       "    <tr>\n",
       "      <th>99</th>\n",
       "      <td>100</td>\n",
       "      <td>Male</td>\n",
       "      <td>20</td>\n",
       "      <td>61</td>\n",
       "      <td>49</td>\n",
       "    </tr>\n",
       "  </tbody>\n",
       "</table>\n",
       "<p>100 rows × 5 columns</p>\n",
       "</div>"
      ]
     },
     "execution_count": 2,
     "metadata": {},
     "output_type": "execute_result"
    }
   ],
   "execution_count": 2
  },
  {
   "metadata": {},
   "cell_type": "markdown",
   "source": "### Preprocessing",
   "id": "97a6bc94388dbb9"
  },
  {
   "metadata": {
    "ExecuteTime": {
     "end_time": "2024-10-02T15:14:21.292937Z",
     "start_time": "2024-10-02T15:14:21.267827Z"
    }
   },
   "cell_type": "code",
   "source": "mall_data.info()\n",
   "id": "d7398ca79d9fcdc9",
   "outputs": [
    {
     "name": "stdout",
     "output_type": "stream",
     "text": [
      "<class 'pandas.core.frame.DataFrame'>\n",
      "RangeIndex: 200 entries, 0 to 199\n",
      "Data columns (total 5 columns):\n",
      " #   Column                  Non-Null Count  Dtype \n",
      "---  ------                  --------------  ----- \n",
      " 0   CustomerID              200 non-null    int64 \n",
      " 1   Gender                  200 non-null    object\n",
      " 2   Age                     200 non-null    int64 \n",
      " 3   Annual Income (k$)      200 non-null    int64 \n",
      " 4   Spending Score (1-100)  200 non-null    int64 \n",
      "dtypes: int64(4), object(1)\n",
      "memory usage: 7.9+ KB\n"
     ]
    }
   ],
   "execution_count": 3
  },
  {
   "metadata": {
    "ExecuteTime": {
     "end_time": "2024-10-02T15:14:21.404220Z",
     "start_time": "2024-10-02T15:14:21.394919Z"
    }
   },
   "cell_type": "code",
   "source": [
    "mall_data_drop = mall_data.drop(['CustomerID', 'Gender'], axis=1)\n",
    "X = mall_data[['Age', 'Spending Score (1-100)','Annual Income (k$)']]\n"
   ],
   "id": "249927456180df54",
   "outputs": [],
   "execution_count": 4
  },
  {
   "metadata": {},
   "cell_type": "markdown",
   "source": "### using the standardScalar",
   "id": "ff5228ffc3dd34c1"
  },
  {
   "metadata": {
    "ExecuteTime": {
     "end_time": "2024-10-02T15:14:21.484045Z",
     "start_time": "2024-10-02T15:14:21.469730Z"
    }
   },
   "cell_type": "code",
   "source": [
    "scaler = StandardScaler()\n",
    "X_scaled = scaler.fit_transform(X)"
   ],
   "id": "a693e1ba95738d37",
   "outputs": [],
   "execution_count": 5
  },
  {
   "metadata": {},
   "cell_type": "markdown",
   "source": "### Using the elbow method",
   "id": "cefb8bc0d48f0bf4"
  },
  {
   "metadata": {
    "ExecuteTime": {
     "end_time": "2024-10-02T15:14:21.995593Z",
     "start_time": "2024-10-02T15:14:21.568943Z"
    }
   },
   "cell_type": "code",
   "source": [
    "#Elbow method -> cluster finding\n",
    "sse = []\n",
    "for k in range(1, 15):\n",
    "    kmeans = KMeans(n_clusters=k, random_state=42)\n",
    "    kmeans.fit(X_scaled)\n",
    "    sse.append(kmeans.inertia_) \n",
    "\n",
    "\n",
    "plt.plot(range(1, 15), sse)\n",
    "plt.xlabel('Number of Clusters')\n",
    "plt.ylabel('Sum of Squared ')\n",
    "plt.title('Elbow Method')\n",
    "plt.show()\n",
    "\n"
   ],
   "id": "f7cb23531f613aa6",
   "outputs": [
    {
     "data": {
      "text/plain": [
       "<Figure size 640x480 with 1 Axes>"
      ],
      "image/png": "[encoded data removed]"
     },
     "metadata": {},
     "output_type": "display_data"
    }
   ],
   "execution_count": 6
  },
  {
   "metadata": {
    "ExecuteTime": {
     "end_time": "2024-10-02T15:14:22.045086Z",
     "start_time": "2024-10-02T15:14:22.020574Z"
    }
   },
   "cell_type": "code",
   "source": [
    "# Reducing a 3 features to 2 features\n",
    "pca = PCA(n_components=2)\n",
    "X_pca = pca.fit_transform(X_scaled)\n"
   ],
   "id": "4f6a50fe98e5cc9e",
   "outputs": [],
   "execution_count": 7
  },
  {
   "metadata": {},
   "cell_type": "markdown",
   "source": "### Using the Kmeans\n",
   "id": "1985ad78017c326d"
  },
  {
   "metadata": {
    "ExecuteTime": {
     "end_time": "2024-10-02T15:14:22.101326Z",
     "start_time": "2024-10-02T15:14:22.090520Z"
    }
   },
   "cell_type": "code",
   "source": [
    "\n",
    "kmeans = KMeans(n_clusters=6, random_state=42)\n",
    "k_mall_data = kmeans.fit_predict(X_pca )\n"
   ],
   "id": "2a17591c38fdbabf",
   "outputs": [],
   "execution_count": 8
  },
  {
   "metadata": {},
   "cell_type": "markdown",
   "source": "### Quality of the Data",
   "id": "baeeab9a46d0675b"
  },
  {
   "metadata": {
    "ExecuteTime": {
     "end_time": "2024-10-02T15:16:26.711524Z",
     "start_time": "2024-10-02T15:16:26.687684Z"
    }
   },
   "cell_type": "code",
   "source": [
    "#Silhouette Score\n",
    "silhouette_avg = silhouette_score(X, k_mall_data)\n",
    "print(f'Silhouette Score: {silhouette_avg:.3f}')\n",
    "\n",
    "#DaviesBouldinIndex\n",
    "db_index = davies_bouldin_score(X, k_mall_data)\n",
    "print(f'Davies-Bouldin Index: {db_index:.3f}')\n",
    "\n",
    "#Inertia \n",
    "inertia = kmeans.inertia_\n",
    "print(f'Inertia: {inertia:.3f}')"
   ],
   "id": "98090dbe46455347",
   "outputs": [
    {
     "name": "stdout",
     "output_type": "stream",
     "text": [
      "Silhouette Score: 0.355\n",
      "Davies-Bouldin Index: 0.939\n",
      "Inertia: 84.862\n"
     ]
    }
   ],
   "execution_count": 10
  },
  {
   "metadata": {
    "ExecuteTime": {
     "end_time": "2024-10-02T15:16:31.074989Z",
     "start_time": "2024-10-02T15:16:30.822068Z"
    }
   },
   "cell_type": "code",
   "source": [
    "\n",
    "plt.scatter(X_pca[k_mall_data == 0,0], X_pca[k_mall_data == 0,1], s=80, c='red',label='Customer 1')\n",
    "plt.scatter(X_pca[k_mall_data == 1,0], X_pca[k_mall_data == 1,1], s=80, c='yellow',label='Customer 2')\n",
    "plt.scatter(X_pca[k_mall_data == 2,0], X_pca[k_mall_data == 2,1], s=80, c='green',label='Customer 3')\n",
    "plt.scatter(X_pca[k_mall_data == 3,0], X_pca[k_mall_data == 3,1], s=80, c='blue',label='Customer 4')\n",
    "plt.scatter(X_pca[k_mall_data == 4,0], X_pca[k_mall_data == 4,1], s=80, c='black',label='Customer 5')\n",
    "\n",
    "plt.xlabel(\"Annual Income\")\n",
    "plt.ylabel(\"Spending Score or Age\")\n"
   ],
   "id": "210dc28883d5dc8a",
   "outputs": [
    {
     "data": {
      "text/plain": [
       "Text(0, 0.5, 'Spending Score or Age')"
      ]
     },
     "execution_count": 11,
     "metadata": {},
     "output_type": "execute_result"
    },
    {
     "data": {
      "text/plain": [
       "<Figure size 640x480 with 1 Axes>"
      ],
      "image/png": "[encoded data removed]"
     },
     "metadata": {},
     "output_type": "display_data"
    }
   ],
   "execution_count": 11
  }
 ],
 "metadata": {
  "kernelspec": {
   "display_name": "Python 3",
   "language": "python",
   "name": "python3"
  },
  "language_info": {
   "codemirror_mode": {
    "name": "ipython",
    "version": 2
   },
   "file_extension": ".py",
   "mimetype": "text/x-python",
   "name": "python",
   "nbconvert_exporter": "python",
   "pygments_lexer": "ipython2",
   "version": "2.7.6"
  }
 },
 "nbformat": 4,
 "nbformat_minor": 5
}
